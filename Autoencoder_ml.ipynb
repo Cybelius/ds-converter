{
 "cells": [
  {
   "cell_type": "code",
   "execution_count": 1,
   "metadata": {},
   "outputs": [],
   "source": [
    "import tensorflow as tf\n",
    "import numpy as np\n",
    "import matplotlib.pyplot as plt\n",
    "from matplotlib.pyplot import savefig\n",
    "import cv2\n",
    "import glob as gl"
   ]
  },
  {
   "cell_type": "code",
   "execution_count": null,
   "metadata": {},
   "outputs": [],
   "source": [
    "count = 1\n",
    "\n",
    "path_hd = 'dataset/train/train_hd/*.jpg'\n",
    "path_messy = 'dataset/train/train_messy/*.jpg'\n",
    "\n",
    "paths_list_messy = [path_messy]\n",
    "paths_list_hd = [path_hd]\n",
    "\n",
    "for path in paths_list_messy:\n",
    "    filenames = gl.glob(path)\n",
    "    for filename in filenames:\n",
    "       \n",
    "        messy_img = cv2.imread(filename)\n",
    "        messy_img = cv2.resize(messy_img, (128, 128))\n",
    "    \n",
    "        # mkdir if folder not exist\n",
    "        cv2.imwrite(\"messy_images/messy_\" +str(count) +\".jpg\", messy_img)\n",
    "        count += 1\n",
    "\n",
    "count = 1\n",
    "for path in paths_list_hd:\n",
    "    filenames = gl.glob(path)\n",
    "    for filename in filenames:\n",
    "       \n",
    "        image = cv2.imread(filename)\n",
    "        image = cv2.resize(image, (128, 128))\n",
    "    \n",
    "        cv2.imwrite(\"hd_images/hd_\" +str(count) +\".jpg\", image)\n",
    "        count += 1"
   ]
  },
  {
   "cell_type": "code",
   "execution_count": null,
   "metadata": {},
   "outputs": [],
   "source": [
    "filenames = gl.glob(\"dataset/test/test_hd/*.jpg\")\n",
    "\n",
    "count = 1\n",
    "for file in filenames:\n",
    "    img = cv2.imread(file)\n",
    "    img = cv2.resize(img, (128, 128))\n",
    "    cv2.imwrite('actual_hd_test/hd_' + str(count) + '.jpg', img)\n",
    "    count += 1"
   ]
  },
  {
   "cell_type": "code",
   "execution_count": 2,
   "metadata": {},
   "outputs": [
    {
     "name": "stdout",
     "output_type": "stream",
     "text": [
      "(426, 128, 128, 3)\n",
      "(426, 128, 128, 3)\n"
     ]
    }
   ],
   "source": [
    "num_images = 426\n",
    "\n",
    "dataset = []\n",
    "\n",
    "for i in range(1, num_images + 1):\n",
    "    #print(i)\n",
    "    img = cv2.imread(\"hd_images/hd_\" +str(i) + \".jpg\")\n",
    "    #print(img)\n",
    "    dataset.append(np.array(img))\n",
    "\n",
    "dataset_source = np.asarray(dataset)\n",
    "print(dataset_source.shape)\n",
    "\n",
    "dataset_tar = []\n",
    "\n",
    "for i in range(1, num_images + 1):\n",
    "    img = cv2.imread(\"messy_images/messy_\" +str(i) + \".jpg\")\n",
    "    #print(img)\n",
    "    dataset_tar.append(np.array(img))\n",
    "\n",
    "dataset_target = np.asarray(dataset_tar)\n",
    "print(dataset_target.shape)"
   ]
  },
  {
   "cell_type": "code",
   "execution_count": 3,
   "metadata": {},
   "outputs": [],
   "source": [
    "def autoencoder(inputs):  # Undercomplete Autoencoder\n",
    "\n",
    "    # Encoder\n",
    "    net = tf.layers.conv2d(inputs, 128, 2, activation=tf.nn.relu)\n",
    "    net = tf.layers.max_pooling2d(net, 2, 2, padding='same')\n",
    "    print(net.shape)\n",
    "\n",
    "    # Decoder\n",
    "    net = tf.image.resize_nearest_neighbor(net, tf.constant([129, 129]))\n",
    "    net = tf.layers.conv2d(net, 1, 2, activation=None, name='outputOfAuto')\n",
    "\n",
    "    print(net.shape)\n",
    "\n",
    "    return net"
   ]
  },
  {
   "cell_type": "code",
   "execution_count": 4,
   "metadata": {},
   "outputs": [
    {
     "name": "stdout",
     "output_type": "stream",
     "text": [
      "(?, 64, 64, 128)\n",
      "(?, 128, 128, 1)\n"
     ]
    }
   ],
   "source": [
    "#The “None” represents that the batch size would be determined at the runtime.\n",
    "ae_inputs = tf.placeholder(tf.float32, (None, 128, 128, 3), name='inputToAuto')\n",
    "ae_target = tf.placeholder(tf.float32, (None, 128, 128, 3))\n",
    "\n",
    "ae_outputs = autoencoder(ae_inputs)\n",
    "lr = 0.001  # learning rate \n",
    "\n",
    "loss = tf.reduce_mean(tf.square(ae_outputs - ae_target))\n",
    "train_op = tf.train.AdamOptimizer(learning_rate=lr).minimize(loss)\n",
    "# Intialize the network \n",
    "init = tf.global_variables_initializer()"
   ]
  },
  {
   "cell_type": "code",
   "execution_count": 5,
   "metadata": {},
   "outputs": [
    {
     "name": "stdout",
     "output_type": "stream",
     "text": [
      "Epoch: 1 - cost = 18655.83984\n",
      "Epoch: 1 - cost = 21386.04102\n",
      "Epoch: 1 - cost = 11900.22363\n",
      "Epoch: 1 - cost = 18007.97852\n",
      "Epoch: 1 - cost = 15768.42480\n",
      "Epoch: 1 - cost = 10649.36816\n",
      "Epoch: 1 - cost = 7275.59766\n",
      "Epoch: 1 - cost = 7057.12744\n",
      "Epoch: 1 - cost = 10152.35938\n",
      "Epoch: 1 - cost = 8818.89551\n",
      "Epoch: 1 - cost = 8401.89160\n",
      "Epoch: 1 - cost = 10020.96973\n",
      "Epoch: 1 - cost = 8318.03223\n",
      "Epoch: 1 - cost = 9289.57715\n",
      "Epoch: 1 - cost = 11017.82422\n",
      "Epoch: 1 - cost = nan\n",
      "Epoch: 1 - cost = nan\n",
      "Epoch: 1 - cost = nan\n",
      "Epoch: 1 - cost = nan\n",
      "Epoch: 1 - cost = nan\n",
      "Epoch: 1 - cost = nan\n",
      "Epoch: 1 - cost = nan\n",
      "Epoch: 1 - cost = nan\n",
      "Epoch: 1 - cost = nan\n",
      "Epoch: 1 - cost = nan\n",
      "Epoch: 1 - cost = nan\n",
      "Epoch: 1 - cost = nan\n",
      "Epoch: 1 - cost = nan\n",
      "Epoch: 1 - cost = nan\n",
      "Epoch: 1 - cost = nan\n",
      "Epoch: 1 - cost = nan\n",
      "Epoch: 1 - cost = nan\n",
      "Epoch: 1 - cost = nan\n",
      "Epoch: 1 - cost = nan\n",
      "Epoch: 1 - cost = nan\n",
      "Epoch: 1 - cost = nan\n",
      "Epoch: 1 - cost = nan\n",
      "Epoch: 1 - cost = nan\n",
      "Epoch: 1 - cost = nan\n",
      "Epoch: 1 - cost = nan\n",
      "Epoch: 1 - cost = nan\n",
      "Epoch: 1 - cost = nan\n",
      "Epoch: 1 - cost = nan\n",
      "Epoch: 1 - cost = nan\n",
      "Epoch: 1 - cost = nan\n",
      "Epoch: 1 - cost = nan\n",
      "Epoch: 1 - cost = nan\n",
      "Epoch: 1 - cost = nan\n",
      "Epoch: 1 - cost = nan\n",
      "Epoch: 1 - cost = nan\n",
      "Epoch: 1 - cost = nan\n",
      "Epoch: 1 - cost = nan\n",
      "Epoch: 1 - cost = nan\n"
     ]
    },
    {
     "ename": "ValueError",
     "evalue": "Parent directory of autoencoder_messy_to_hd/SavedModel/AutoencoderMessyToHd.ckpt doesn't exist, can't save.",
     "output_type": "error",
     "traceback": [
      "\u001b[0;31m---------------------------------------------------------------------------\u001b[0m",
      "\u001b[0;31mNotFoundError\u001b[0m                             Traceback (most recent call last)",
      "\u001b[0;32m~/ml/ML_env/lib/python3.4/site-packages/tensorflow/python/client/session.py\u001b[0m in \u001b[0;36m_do_call\u001b[0;34m(self, fn, *args)\u001b[0m\n\u001b[1;32m   1333\u001b[0m     \u001b[0;32mtry\u001b[0m\u001b[0;34m:\u001b[0m\u001b[0;34m\u001b[0m\u001b[0m\n\u001b[0;32m-> 1334\u001b[0;31m       \u001b[0;32mreturn\u001b[0m \u001b[0mfn\u001b[0m\u001b[0;34m(\u001b[0m\u001b[0;34m*\u001b[0m\u001b[0margs\u001b[0m\u001b[0;34m)\u001b[0m\u001b[0;34m\u001b[0m\u001b[0m\n\u001b[0m\u001b[1;32m   1335\u001b[0m     \u001b[0;32mexcept\u001b[0m \u001b[0merrors\u001b[0m\u001b[0;34m.\u001b[0m\u001b[0mOpError\u001b[0m \u001b[0;32mas\u001b[0m \u001b[0me\u001b[0m\u001b[0;34m:\u001b[0m\u001b[0;34m\u001b[0m\u001b[0m\n",
      "\u001b[0;32m~/ml/ML_env/lib/python3.4/site-packages/tensorflow/python/client/session.py\u001b[0m in \u001b[0;36m_run_fn\u001b[0;34m(feed_dict, fetch_list, target_list, options, run_metadata)\u001b[0m\n\u001b[1;32m   1318\u001b[0m       return self._call_tf_sessionrun(\n\u001b[0;32m-> 1319\u001b[0;31m           options, feed_dict, fetch_list, target_list, run_metadata)\n\u001b[0m\u001b[1;32m   1320\u001b[0m \u001b[0;34m\u001b[0m\u001b[0m\n",
      "\u001b[0;32m~/ml/ML_env/lib/python3.4/site-packages/tensorflow/python/client/session.py\u001b[0m in \u001b[0;36m_call_tf_sessionrun\u001b[0;34m(self, options, feed_dict, fetch_list, target_list, run_metadata)\u001b[0m\n\u001b[1;32m   1406\u001b[0m         \u001b[0mself\u001b[0m\u001b[0;34m.\u001b[0m\u001b[0m_session\u001b[0m\u001b[0;34m,\u001b[0m \u001b[0moptions\u001b[0m\u001b[0;34m,\u001b[0m \u001b[0mfeed_dict\u001b[0m\u001b[0;34m,\u001b[0m \u001b[0mfetch_list\u001b[0m\u001b[0;34m,\u001b[0m \u001b[0mtarget_list\u001b[0m\u001b[0;34m,\u001b[0m\u001b[0;34m\u001b[0m\u001b[0m\n\u001b[0;32m-> 1407\u001b[0;31m         run_metadata)\n\u001b[0m\u001b[1;32m   1408\u001b[0m \u001b[0;34m\u001b[0m\u001b[0m\n",
      "\u001b[0;31mNotFoundError\u001b[0m: autoencoder_messy_to_hd/SavedModel; No such file or directory\n\t [[{{node save/SaveV2}} = SaveV2[dtypes=[DT_FLOAT, DT_FLOAT, DT_FLOAT, DT_FLOAT, DT_FLOAT, DT_FLOAT, DT_FLOAT, DT_FLOAT, DT_FLOAT, DT_FLOAT, DT_FLOAT, DT_FLOAT, DT_FLOAT, DT_FLOAT], _device=\"/job:localhost/replica:0/task:0/device:CPU:0\"](_arg_save/Const_0_0, save/SaveV2/tensor_names, save/SaveV2/shape_and_slices, beta1_power, beta2_power, conv2d/bias, conv2d/bias/Adam, conv2d/bias/Adam_1, conv2d/kernel, conv2d/kernel/Adam, conv2d/kernel/Adam_1, outputOfAuto/bias, outputOfAuto/bias/Adam, outputOfAuto/bias/Adam_1, outputOfAuto/kernel, outputOfAuto/kernel/Adam, outputOfAuto/kernel/Adam_1)]]",
      "\nDuring handling of the above exception, another exception occurred:\n",
      "\u001b[0;31mNotFoundError\u001b[0m                             Traceback (most recent call last)",
      "\u001b[0;32m~/ml/ML_env/lib/python3.4/site-packages/tensorflow/python/training/saver.py\u001b[0m in \u001b[0;36msave\u001b[0;34m(self, sess, save_path, global_step, latest_filename, meta_graph_suffix, write_meta_graph, write_state, strip_default_attrs)\u001b[0m\n\u001b[1;32m   1440\u001b[0m               \u001b[0mself\u001b[0m\u001b[0;34m.\u001b[0m\u001b[0msaver_def\u001b[0m\u001b[0;34m.\u001b[0m\u001b[0msave_tensor_name\u001b[0m\u001b[0;34m,\u001b[0m\u001b[0;34m\u001b[0m\u001b[0m\n\u001b[0;32m-> 1441\u001b[0;31m               {self.saver_def.filename_tensor_name: checkpoint_file})\n\u001b[0m\u001b[1;32m   1442\u001b[0m \u001b[0;34m\u001b[0m\u001b[0m\n",
      "\u001b[0;32m~/ml/ML_env/lib/python3.4/site-packages/tensorflow/python/client/session.py\u001b[0m in \u001b[0;36mrun\u001b[0;34m(self, fetches, feed_dict, options, run_metadata)\u001b[0m\n\u001b[1;32m    928\u001b[0m       result = self._run(None, fetches, feed_dict, options_ptr,\n\u001b[0;32m--> 929\u001b[0;31m                          run_metadata_ptr)\n\u001b[0m\u001b[1;32m    930\u001b[0m       \u001b[0;32mif\u001b[0m \u001b[0mrun_metadata\u001b[0m\u001b[0;34m:\u001b[0m\u001b[0;34m\u001b[0m\u001b[0m\n",
      "\u001b[0;32m~/ml/ML_env/lib/python3.4/site-packages/tensorflow/python/client/session.py\u001b[0m in \u001b[0;36m_run\u001b[0;34m(self, handle, fetches, feed_dict, options, run_metadata)\u001b[0m\n\u001b[1;32m   1151\u001b[0m       results = self._do_run(handle, final_targets, final_fetches,\n\u001b[0;32m-> 1152\u001b[0;31m                              feed_dict_tensor, options, run_metadata)\n\u001b[0m\u001b[1;32m   1153\u001b[0m     \u001b[0;32melse\u001b[0m\u001b[0;34m:\u001b[0m\u001b[0;34m\u001b[0m\u001b[0m\n",
      "\u001b[0;32m~/ml/ML_env/lib/python3.4/site-packages/tensorflow/python/client/session.py\u001b[0m in \u001b[0;36m_do_run\u001b[0;34m(self, handle, target_list, fetch_list, feed_dict, options, run_metadata)\u001b[0m\n\u001b[1;32m   1327\u001b[0m       return self._do_call(_run_fn, feeds, fetches, targets, options,\n\u001b[0;32m-> 1328\u001b[0;31m                            run_metadata)\n\u001b[0m\u001b[1;32m   1329\u001b[0m     \u001b[0;32melse\u001b[0m\u001b[0;34m:\u001b[0m\u001b[0;34m\u001b[0m\u001b[0m\n",
      "\u001b[0;32m~/ml/ML_env/lib/python3.4/site-packages/tensorflow/python/client/session.py\u001b[0m in \u001b[0;36m_do_call\u001b[0;34m(self, fn, *args)\u001b[0m\n\u001b[1;32m   1347\u001b[0m       \u001b[0mmessage\u001b[0m \u001b[0;34m=\u001b[0m \u001b[0merror_interpolation\u001b[0m\u001b[0;34m.\u001b[0m\u001b[0minterpolate\u001b[0m\u001b[0;34m(\u001b[0m\u001b[0mmessage\u001b[0m\u001b[0;34m,\u001b[0m \u001b[0mself\u001b[0m\u001b[0;34m.\u001b[0m\u001b[0m_graph\u001b[0m\u001b[0;34m)\u001b[0m\u001b[0;34m\u001b[0m\u001b[0m\n\u001b[0;32m-> 1348\u001b[0;31m       \u001b[0;32mraise\u001b[0m \u001b[0mtype\u001b[0m\u001b[0;34m(\u001b[0m\u001b[0me\u001b[0m\u001b[0;34m)\u001b[0m\u001b[0;34m(\u001b[0m\u001b[0mnode_def\u001b[0m\u001b[0;34m,\u001b[0m \u001b[0mop\u001b[0m\u001b[0;34m,\u001b[0m \u001b[0mmessage\u001b[0m\u001b[0;34m)\u001b[0m\u001b[0;34m\u001b[0m\u001b[0m\n\u001b[0m\u001b[1;32m   1349\u001b[0m \u001b[0;34m\u001b[0m\u001b[0m\n",
      "\u001b[0;31mNotFoundError\u001b[0m: autoencoder_messy_to_hd/SavedModel; No such file or directory\n\t [[node save/SaveV2 (defined at <ipython-input-5-59650a719a5a>:6)  = SaveV2[dtypes=[DT_FLOAT, DT_FLOAT, DT_FLOAT, DT_FLOAT, DT_FLOAT, DT_FLOAT, DT_FLOAT, DT_FLOAT, DT_FLOAT, DT_FLOAT, DT_FLOAT, DT_FLOAT, DT_FLOAT, DT_FLOAT], _device=\"/job:localhost/replica:0/task:0/device:CPU:0\"](_arg_save/Const_0_0, save/SaveV2/tensor_names, save/SaveV2/shape_and_slices, beta1_power, beta2_power, conv2d/bias, conv2d/bias/Adam, conv2d/bias/Adam_1, conv2d/kernel, conv2d/kernel/Adam, conv2d/kernel/Adam_1, outputOfAuto/bias, outputOfAuto/bias/Adam, outputOfAuto/bias/Adam_1, outputOfAuto/kernel, outputOfAuto/kernel/Adam, outputOfAuto/kernel/Adam_1)]]\n\nCaused by op 'save/SaveV2', defined at:\n  File \"/usr/lib/python3.4/runpy.py\", line 170, in _run_module_as_main\n    \"__main__\", mod_spec)\n  File \"/usr/lib/python3.4/runpy.py\", line 85, in _run_code\n    exec(code, run_globals)\n  File \"/home/coco/ml/ML_env/lib/python3.4/site-packages/ipykernel_launcher.py\", line 16, in <module>\n    app.launch_new_instance()\n  File \"/home/coco/ml/ML_env/lib/python3.4/site-packages/traitlets/config/application.py\", line 658, in launch_instance\n    app.start()\n  File \"/home/coco/ml/ML_env/lib/python3.4/site-packages/ipykernel/kernelapp.py\", line 505, in start\n    self.io_loop.start()\n  File \"/home/coco/ml/ML_env/lib/python3.4/site-packages/tornado/platform/asyncio.py\", line 132, in start\n    self.asyncio_loop.run_forever()\n  File \"/usr/lib/python3.4/asyncio/base_events.py\", line 276, in run_forever\n    self._run_once()\n  File \"/usr/lib/python3.4/asyncio/base_events.py\", line 1172, in _run_once\n    handle._run()\n  File \"/usr/lib/python3.4/asyncio/events.py\", line 120, in _run\n    self._callback(*self._args)\n  File \"/home/coco/ml/ML_env/lib/python3.4/site-packages/tornado/ioloop.py\", line 758, in _run_callback\n    ret = callback()\n  File \"/home/coco/ml/ML_env/lib/python3.4/site-packages/tornado/stack_context.py\", line 300, in null_wrapper\n    return fn(*args, **kwargs)\n  File \"/home/coco/ml/ML_env/lib/python3.4/site-packages/tornado/gen.py\", line 1233, in inner\n    self.run()\n  File \"/home/coco/ml/ML_env/lib/python3.4/site-packages/tornado/gen.py\", line 1147, in run\n    yielded = self.gen.send(value)\n  File \"/home/coco/ml/ML_env/lib/python3.4/site-packages/ipykernel/kernelbase.py\", line 357, in process_one\n    yield gen.maybe_future(dispatch(*args))\n  File \"/home/coco/ml/ML_env/lib/python3.4/site-packages/tornado/gen.py\", line 326, in wrapper\n    yielded = next(result)\n  File \"/home/coco/ml/ML_env/lib/python3.4/site-packages/ipykernel/kernelbase.py\", line 267, in dispatch_shell\n    yield gen.maybe_future(handler(stream, idents, msg))\n  File \"/home/coco/ml/ML_env/lib/python3.4/site-packages/tornado/gen.py\", line 326, in wrapper\n    yielded = next(result)\n  File \"/home/coco/ml/ML_env/lib/python3.4/site-packages/ipykernel/kernelbase.py\", line 534, in execute_request\n    user_expressions, allow_stdin,\n  File \"/home/coco/ml/ML_env/lib/python3.4/site-packages/tornado/gen.py\", line 326, in wrapper\n    yielded = next(result)\n  File \"/home/coco/ml/ML_env/lib/python3.4/site-packages/ipykernel/ipkernel.py\", line 294, in do_execute\n    res = shell.run_cell(code, store_history=store_history, silent=silent)\n  File \"/home/coco/ml/ML_env/lib/python3.4/site-packages/ipykernel/zmqshell.py\", line 536, in run_cell\n    return super(ZMQInteractiveShell, self).run_cell(*args, **kwargs)\n  File \"/home/coco/ml/ML_env/lib/python3.4/site-packages/IPython/core/interactiveshell.py\", line 2662, in run_cell\n    raw_cell, store_history, silent, shell_futures)\n  File \"/home/coco/ml/ML_env/lib/python3.4/site-packages/IPython/core/interactiveshell.py\", line 2785, in _run_cell\n    interactivity=interactivity, compiler=compiler, result=result)\n  File \"/home/coco/ml/ML_env/lib/python3.4/site-packages/IPython/core/interactiveshell.py\", line 2901, in run_ast_nodes\n    if self.run_code(code, result):\n  File \"/home/coco/ml/ML_env/lib/python3.4/site-packages/IPython/core/interactiveshell.py\", line 2961, in run_code\n    exec(code_obj, self.user_global_ns, self.user_ns)\n  File \"<ipython-input-5-59650a719a5a>\", line 6, in <module>\n    saver_ = tf.train.Saver(max_to_keep=3)\n  File \"/home/coco/ml/ML_env/lib/python3.4/site-packages/tensorflow/python/training/saver.py\", line 1102, in __init__\n    self.build()\n  File \"/home/coco/ml/ML_env/lib/python3.4/site-packages/tensorflow/python/training/saver.py\", line 1114, in build\n    self._build(self._filename, build_save=True, build_restore=True)\n  File \"/home/coco/ml/ML_env/lib/python3.4/site-packages/tensorflow/python/training/saver.py\", line 1151, in _build\n    build_save=build_save, build_restore=build_restore)\n  File \"/home/coco/ml/ML_env/lib/python3.4/site-packages/tensorflow/python/training/saver.py\", line 792, in _build_internal\n    save_tensor = self._AddSaveOps(filename_tensor, saveables)\n  File \"/home/coco/ml/ML_env/lib/python3.4/site-packages/tensorflow/python/training/saver.py\", line 284, in _AddSaveOps\n    save = self.save_op(filename_tensor, saveables)\n  File \"/home/coco/ml/ML_env/lib/python3.4/site-packages/tensorflow/python/training/saver.py\", line 202, in save_op\n    tensors)\n  File \"/home/coco/ml/ML_env/lib/python3.4/site-packages/tensorflow/python/ops/gen_io_ops.py\", line 1690, in save_v2\n    shape_and_slices=shape_and_slices, tensors=tensors, name=name)\n  File \"/home/coco/ml/ML_env/lib/python3.4/site-packages/tensorflow/python/framework/op_def_library.py\", line 787, in _apply_op_helper\n    op_def=op_def)\n  File \"/home/coco/ml/ML_env/lib/python3.4/site-packages/tensorflow/python/util/deprecation.py\", line 488, in new_func\n    return func(*args, **kwargs)\n  File \"/home/coco/ml/ML_env/lib/python3.4/site-packages/tensorflow/python/framework/ops.py\", line 3274, in create_op\n    op_def=op_def)\n  File \"/home/coco/ml/ML_env/lib/python3.4/site-packages/tensorflow/python/framework/ops.py\", line 1770, in __init__\n    self._traceback = tf_stack.extract_stack()\n\nNotFoundError (see above for traceback): autoencoder_messy_to_hd/SavedModel; No such file or directory\n\t [[node save/SaveV2 (defined at <ipython-input-5-59650a719a5a>:6)  = SaveV2[dtypes=[DT_FLOAT, DT_FLOAT, DT_FLOAT, DT_FLOAT, DT_FLOAT, DT_FLOAT, DT_FLOAT, DT_FLOAT, DT_FLOAT, DT_FLOAT, DT_FLOAT, DT_FLOAT, DT_FLOAT, DT_FLOAT], _device=\"/job:localhost/replica:0/task:0/device:CPU:0\"](_arg_save/Const_0_0, save/SaveV2/tensor_names, save/SaveV2/shape_and_slices, beta1_power, beta2_power, conv2d/bias, conv2d/bias/Adam, conv2d/bias/Adam_1, conv2d/kernel, conv2d/kernel/Adam, conv2d/kernel/Adam_1, outputOfAuto/bias, outputOfAuto/bias/Adam, outputOfAuto/bias/Adam_1, outputOfAuto/kernel, outputOfAuto/kernel/Adam, outputOfAuto/kernel/Adam_1)]]\n",
      "\nDuring handling of the above exception, another exception occurred:\n",
      "\u001b[0;31mValueError\u001b[0m                                Traceback (most recent call last)",
      "\u001b[0;32m<ipython-input-5-59650a719a5a>\u001b[0m in \u001b[0;36m<module>\u001b[0;34m()\u001b[0m\n\u001b[1;32m     26\u001b[0m         \u001b[0mbatch_size\u001b[0m \u001b[0;34m+=\u001b[0m \u001b[0;36m32\u001b[0m\u001b[0;34m\u001b[0m\u001b[0m\n\u001b[1;32m     27\u001b[0m \u001b[0;34m\u001b[0m\u001b[0m\n\u001b[0;32m---> 28\u001b[0;31m     \u001b[0msaver_\u001b[0m\u001b[0;34m.\u001b[0m\u001b[0msave\u001b[0m\u001b[0;34m(\u001b[0m\u001b[0msess\u001b[0m\u001b[0;34m,\u001b[0m \u001b[0msaving_path\u001b[0m\u001b[0;34m,\u001b[0m \u001b[0mglobal_step\u001b[0m\u001b[0;34m=\u001b[0m\u001b[0mep\u001b[0m\u001b[0;34m)\u001b[0m\u001b[0;34m\u001b[0m\u001b[0m\n\u001b[0m\u001b[1;32m     29\u001b[0m \u001b[0;34m\u001b[0m\u001b[0m\n\u001b[1;32m     30\u001b[0m \u001b[0msess\u001b[0m\u001b[0;34m.\u001b[0m\u001b[0mclose\u001b[0m\u001b[0;34m(\u001b[0m\u001b[0;34m)\u001b[0m\u001b[0;34m\u001b[0m\u001b[0m\n",
      "\u001b[0;32m~/ml/ML_env/lib/python3.4/site-packages/tensorflow/python/training/saver.py\u001b[0m in \u001b[0;36msave\u001b[0;34m(self, sess, save_path, global_step, latest_filename, meta_graph_suffix, write_meta_graph, write_state, strip_default_attrs)\u001b[0m\n\u001b[1;32m   1456\u001b[0m               \"Parent directory of {} doesn't exist, can't save.\".format(\n\u001b[1;32m   1457\u001b[0m                   save_path))\n\u001b[0;32m-> 1458\u001b[0;31m         \u001b[0;32mraise\u001b[0m \u001b[0mexc\u001b[0m\u001b[0;34m\u001b[0m\u001b[0m\n\u001b[0m\u001b[1;32m   1459\u001b[0m \u001b[0;34m\u001b[0m\u001b[0m\n\u001b[1;32m   1460\u001b[0m     \u001b[0;32mif\u001b[0m \u001b[0mwrite_meta_graph\u001b[0m\u001b[0;34m:\u001b[0m\u001b[0;34m\u001b[0m\u001b[0m\n",
      "\u001b[0;31mValueError\u001b[0m: Parent directory of autoencoder_messy_to_hd/SavedModel/AutoencoderMessyToHd.ckpt doesn't exist, can't save."
     ]
    }
   ],
   "source": [
    "batch_size = 8\n",
    "epoch_num = 1\n",
    "\n",
    "saving_path = 'autoencoder_messy_to_hd/SavedModel/AutoencoderMessyToHd.ckpt'\n",
    "\n",
    "saver_ = tf.train.Saver(max_to_keep=3)\n",
    "\n",
    "batch_img = dataset_source[0:batch_size]\n",
    "batch_out = dataset_target[0:batch_size]\n",
    "\n",
    "num_batches = num_images // batch_size\n",
    "\n",
    "sess = tf.Session()\n",
    "sess.run(init)\n",
    "\n",
    "for ep in range(epoch_num):\n",
    "    batch_size = 0\n",
    "    for batch_n in range(num_batches):  # batches loop\n",
    "\n",
    "        _, c = sess.run([train_op, loss], feed_dict={ae_inputs: batch_img, ae_target: batch_out})\n",
    "        print(\"Epoch: {} - cost = {:.5f}\".format((ep + 1), c))\n",
    "\n",
    "        batch_img = dataset_source[batch_size: batch_size + 32]\n",
    "        batch_out = dataset_target[batch_size: batch_size + 32]\n",
    "\n",
    "        batch_size += 32\n",
    "\n",
    "    saver_.save(sess, saving_path, global_step=ep)\n",
    "\n",
    "sess.close()"
   ]
  },
  {
   "cell_type": "code",
   "execution_count": null,
   "metadata": {},
   "outputs": [],
   "source": [
    "saver = tf.train.Saver()\n",
    "\n",
    "init = tf.global_variables_initializer()\n",
    "sess = tf.Session()\n",
    "sess.run(init)\n",
    "\n",
    "saver.restore(sess, 'autoencoder_messy_to_hd/SavedModel/AutoencoderMessyToHd.ckpt-49')\n",
    "\n",
    "filenames = gl.glob('actual_hd_test/*.jpg')\n",
    "\n",
    "test_data = []\n",
    "for file in filenames[0:100]:\n",
    "    test_data.append(np.array(cv2.imread(file)))\n",
    "\n",
    "test_dataset = np.asarray(test_data)\n",
    "print(test_dataset.shape)\n",
    "\n",
    "# Running the test data on the autoencoder\n",
    "batch_imgs = test_dataset\n",
    "hd_imgs = sess.run(ae_outputs, feed_dict = {ae_inputs: batch_imgs})\n",
    "\n",
    "for i in range(hd_imgs.shape[0]):\n",
    "    cv2.imwrite('gen_hd_images/gen_hd_' +str(i) +'.jpg', hd_imgs[i])"
   ]
  },
  {
   "cell_type": "code",
   "execution_count": null,
   "metadata": {},
   "outputs": [],
   "source": []
  }
 ],
 "metadata": {
  "kernelspec": {
   "display_name": "Python 3",
   "language": "python",
   "name": "python3"
  },
  "language_info": {
   "codemirror_mode": {
    "name": "ipython",
    "version": 3
   },
   "file_extension": ".py",
   "mimetype": "text/x-python",
   "name": "python",
   "nbconvert_exporter": "python",
   "pygments_lexer": "ipython3",
   "version": "3.4.3"
  }
 },
 "nbformat": 4,
 "nbformat_minor": 2
}
